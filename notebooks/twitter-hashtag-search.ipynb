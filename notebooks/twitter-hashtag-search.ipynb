{
 "cells": [
  {
   "cell_type": "markdown",
   "id": "06a3242d",
   "metadata": {},
   "source": [
    "# Twitter Hashtag Search Notebook\n",
    "This notebook enables you to request tweets from Twitter (assuming you have a developer account and active credentials)\n",
    "\n",
    "## Pre-requisites\n",
    "For this notebook to work, you need a Twitter developer account and active credentials for authorisation to access the Twitter API. If you do not have a Twitter developer account, then you can sign up on the Twitter [Developer Platform](https://developer.twitter.com/en/docs/twitter-api/getting-started/getting-access-to-the-twitter-api). If you have a Twitter developer account, but do not have active credentials, then you need to follow step two in the above link to acquire your API key and secret (also known as Consumer Key and Secret) and user Access Token (key) and Secret."
   ]
  },
  {
   "cell_type": "markdown",
   "id": "4d489f8c",
   "metadata": {},
   "source": [
    "## Install required packages\n",
    "Install the required packages and download lexicon for sentiment analysis."
   ]
  },
  {
   "cell_type": "code",
   "execution_count": 1,
   "id": "96bb8ea8",
   "metadata": {},
   "outputs": [
    {
     "name": "stderr",
     "output_type": "stream",
     "text": [
      "[nltk_data] Downloading package vader_lexicon to\n",
      "[nltk_data]     /Users/matt/nltk_data...\n",
      "[nltk_data]   Package vader_lexicon is already up-to-date!\n"
     ]
    }
   ],
   "source": [
    "import tweepy\n",
    "import pandas as pd\n",
    "from nltk import download\n",
    "from nltk.sentiment.vader import SentimentIntensityAnalyzer\n",
    "download('vader_lexicon');"
   ]
  },
  {
   "cell_type": "markdown",
   "id": "e0c04fdf",
   "metadata": {},
   "source": [
    "## Enter credentials and setup API authorisation\n",
    "Enter the credentials you should have setup using your Twitter developer account. If not, see above."
   ]
  },
  {
   "cell_type": "code",
   "execution_count": 2,
   "id": "d4d23ebc",
   "metadata": {},
   "outputs": [],
   "source": [
    "consumer_key = ''\n",
    "consumer_secret = ''\n",
    "access_key = ''\n",
    "access_secret = ''\n",
    "\n",
    "auth = tweepy.OAuthHandler(consumer_key, consumer_secret)\n",
    "auth.set_access_token(access_key, access_secret)\n",
    "api = tweepy.API(auth)"
   ]
  },
  {
   "cell_type": "markdown",
   "id": "5816895e",
   "metadata": {},
   "source": [
    "## Specify search parameters and request tweets\n",
    "Specify the hashtag you want to search with and then request the tweets."
   ]
  },
  {
   "cell_type": "code",
   "execution_count": 3,
   "id": "a5bd4118",
   "metadata": {},
   "outputs": [],
   "source": [
    "def twitter_hashtag_search(hashtag):\n",
    "    tweets = []\n",
    "    for tweet in tweepy.Cursor(api.search_tweets, hashtag, lang=\"en\", tweet_mode='extended').items(1000):\n",
    "        tweets.append(tweet._json['full_text'])\n",
    "    return(tweets)\n",
    "\n",
    "hashtag = '#Marriott'\n",
    "#hashtag = '#Hilton'\n",
    "#hashtag = '#InterContinental'\n",
    "tweets = twitter_hashtag_search(hashtag)"
   ]
  },
  {
   "cell_type": "markdown",
   "id": "8f5ff92a",
   "metadata": {},
   "source": [
    "## Prepare tweets and analyse sentiment\n",
    "Remove duplicates and analyse sentiment and count number of positive, negative, and neutral classes."
   ]
  },
  {
   "cell_type": "code",
   "execution_count": 4,
   "id": "7ef46b25",
   "metadata": {},
   "outputs": [
    {
     "name": "stdout",
     "output_type": "stream",
     "text": [
      " 1    11\n",
      " 0     4\n",
      "-1     3\n",
      "Name: class, dtype: int64\n"
     ]
    }
   ],
   "source": [
    "# Remove duplicates\n",
    "tweets = list(set(tweets))\n",
    "\n",
    "# Setup sentiment analyser\n",
    "scorer = SentimentIntensityAnalyzer()\n",
    "def predict_sentiment(text_string):\n",
    "    return(scorer.polarity_scores(text_string)['compound'])\n",
    "\n",
    "# Predict sentiment\n",
    "df_tweets = pd.DataFrame({'tweets' : tweets})\n",
    "df_tweets['sentiment'] = df_tweets['tweets'].apply(predict_sentiment)\n",
    "\n",
    "# Create class\n",
    "df_tweets['class'] = df_tweets['sentiment'].apply(lambda s: 1 if s>0 else -1 if s<0 else 0)\n",
    "\n",
    "# Count values\n",
    "print(df_tweets['class'].value_counts())"
   ]
  },
  {
   "cell_type": "markdown",
   "id": "80666083",
   "metadata": {},
   "source": [
    "## Save tweets and analysis (for download)\n",
    "Save the tweets with a unique and identifiable filename."
   ]
  },
  {
   "cell_type": "code",
   "execution_count": 5,
   "id": "e279d256",
   "metadata": {},
   "outputs": [],
   "source": [
    "# Get the current time and format to string\n",
    "from datetime import datetime\n",
    "now = datetime.now().strftime(\"%Y-%m-%d_%H-%M-%S\")\n",
    "\n",
    "# Specify the filename to {hastag}_{now}.csv and remove the '#' symbol\n",
    "filename = f'{hashtag}_{now}.csv'.replace('#','')\n",
    "\n",
    "# Save csv to data directory\n",
    "df_tweets.to_csv(f'../data/{filename}',index=False)"
   ]
  }
 ],
 "metadata": {
  "kernelspec": {
   "display_name": "Python 3 (ipykernel)",
   "language": "python",
   "name": "python3"
  },
  "language_info": {
   "codemirror_mode": {
    "name": "ipython",
    "version": 3
   },
   "file_extension": ".py",
   "mimetype": "text/x-python",
   "name": "python",
   "nbconvert_exporter": "python",
   "pygments_lexer": "ipython3",
   "version": "3.7.9"
  }
 },
 "nbformat": 4,
 "nbformat_minor": 5
}
